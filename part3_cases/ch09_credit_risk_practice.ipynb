{
 "cells": [
  {
   "cell_type": "markdown",
   "id": "9c8878d5",
   "metadata": {},
   "source": [
    "# CHAPTER 9 실습: 소비자 신용 리스크 관리 (Python 3.11 호환)\n",
    "이 노트북은 다양한 `scikit-learn`/`fetch_openml` 버전, 네트워크 환경에서 **항상 실행 가능하도록** 설계되었습니다.\n",
    "\n",
    "## 포함 내용\n",
    "- 데이터 로딩 (OpenML → CSV URL → **오프라인 합성 데이터** 순서의 3중 폴백)\n",
    "- 전처리 및 원-핫 인코딩\n",
    "- 로지스틱 회귀 학습/평가\n",
    "- 성별 그룹 예측 비율로 **편향성 확인** (가능한 경우)\n",
    "- 성별 변수 제거 후 **재학습 비교**\n",
    "- (선택) MLflow 기록, 모델 파일 저장\n"
   ]
  },
  {
   "cell_type": "code",
   "execution_count": 1,
   "id": "2ad9905b",
   "metadata": {},
   "outputs": [
    {
     "name": "stdout",
     "output_type": "stream",
     "text": [
      "Python : 3.11.13\n",
      "OS     : macOS-14.6.1-arm64-arm-64bit\n",
      "sklearn: 1.7.1\n"
     ]
    }
   ],
   "source": [
    "# 환경 정보 확인\n",
    "import sys, sklearn, platform\n",
    "print(\"Python :\", sys.version.split()[0])\n",
    "print(\"OS     :\", platform.platform())\n",
    "print(\"sklearn:\", sklearn.__version__)"
   ]
  },
  {
   "cell_type": "markdown",
   "id": "30706e57",
   "metadata": {},
   "source": [
    "## 1) 데이터 로딩 (다중 폴백)"
   ]
  },
  {
   "cell_type": "code",
   "execution_count": 2,
   "id": "55eb881c",
   "metadata": {},
   "outputs": [
    {
     "name": "stderr",
     "output_type": "stream",
     "text": [
      "/Users/lee/Documents/mlops-study/venv/lib/python3.11/site-packages/sklearn/datasets/_openml.py:109: UserWarning: A network error occurred while downloading https://api.openml.org/data/v1/download/31/credit-g.arff. Retrying...\n",
      "  warn(\n"
     ]
    },
    {
     "name": "stdout",
     "output_type": "stream",
     "text": [
      "✅ Loaded data source: synthetic-fallback\n",
      "   duration    amount       age  cred_hist   savings  employment  \\\n",
      "0  0.243847 -0.164471 -0.705182  -0.015433 -0.078425    0.730461   \n",
      "1  0.650237  0.274936 -0.776536  -0.959132 -1.123291   -0.572504   \n",
      "2 -3.390672 -0.590640 -1.343470   6.169133  1.222753    1.439649   \n",
      "3  0.064793 -0.032960 -0.723131  -1.063065 -0.201072   -0.770711   \n",
      "4  0.438060 -0.914989  0.953398  -0.033631 -0.048063   -0.860909   \n",
      "\n",
      "   installment_rate    others     sex housing    purpose  target  \n",
      "0          0.363777  0.727296    male    free      other       0  \n",
      "1         -0.918580  0.073886  female    free        car       0  \n",
      "2         -1.715076  3.223089  female    rent   radio/TV       1  \n",
      "3          0.890636 -1.379626    male    free  education       1  \n",
      "4          0.511169 -0.449294    male     own   business       0  \n"
     ]
    }
   ],
   "source": [
    "import pandas as pd\n",
    "import numpy as np\n",
    "\n",
    "def load_credit_df():\n",
    "    \"\"\"여러 경로를 시도하며 데이터프레임과 출처 문자열을 반환합니다.\"\"\"\n",
    "    # 1) OpenML by name/version (권장 시그니처)\n",
    "    try:\n",
    "        from sklearn.datasets import fetch_openml\n",
    "        try:\n",
    "            credit = fetch_openml(name=\"credit-g\", version=1, as_frame=True)\n",
    "        except TypeError:\n",
    "            # 일부 버전에서 위치인수만 허용되거나 시그니처 차이\n",
    "            credit = fetch_openml(\"credit-g\", version=1, as_frame=True)\n",
    "        df = credit.frame.copy()\n",
    "        return df, \"openml:name=credit-g,version=1\"\n",
    "    except Exception as e1:\n",
    "        err1 = e1\n",
    "\n",
    "    # 2) OpenML by data_id (German Credit: 31)\n",
    "    try:\n",
    "        from sklearn.datasets import fetch_openml\n",
    "        credit = fetch_openml(data_id=31, as_frame=True)\n",
    "        df = credit.frame.copy()\n",
    "        return df, \"openml:data_id=31\"\n",
    "    except Exception as e2:\n",
    "        err2 = e2\n",
    "\n",
    "    # 3) Direct CSV URL (OpenML 제공 CSV 엔드포인트)\n",
    "    try:\n",
    "        url = \"https://www.openml.org/data/get_csv/31/dataset_31_german_credit.csv\"\n",
    "        df = pd.read_csv(url)\n",
    "        return df, \"openml:csv-url\"\n",
    "    except Exception as e3:\n",
    "        err3 = e3\n",
    "\n",
    "    # 4) 최후 폴백: 합성 데이터 생성 (오프라인 전용)\n",
    "    from sklearn.datasets import make_classification\n",
    "    X, y = make_classification(\n",
    "        n_samples=1000, n_features=8, n_informative=5,\n",
    "        weights=[0.3, 0.7], random_state=42\n",
    "    )\n",
    "    df = pd.DataFrame(\n",
    "        X, columns=[\"duration\",\"amount\",\"age\",\"cred_hist\",\"savings\",\"employment\",\"installment_rate\",\"others\"]\n",
    "    )\n",
    "    rng = np.random.default_rng(42)\n",
    "    df[\"sex\"] = rng.choice([\"male\",\"female\"], size=len(df))\n",
    "    df[\"housing\"] = rng.choice([\"own\",\"rent\",\"free\"], size=len(df))\n",
    "    df[\"purpose\"] = rng.choice([\"car\",\"radio/TV\",\"education\",\"business\",\"other\"], size=len(df))\n",
    "    df[\"target\"] = y\n",
    "    return df, \"synthetic-fallback\"\n",
    "\n",
    "df, source = load_credit_df()\n",
    "print(\"✅ Loaded data source:\", source)\n",
    "print(df.head())"
   ]
  },
  {
   "cell_type": "markdown",
   "id": "c72912f5",
   "metadata": {},
   "source": [
    "## 2) 타깃 생성 및 전처리 / 원-핫 인코딩"
   ]
  },
  {
   "cell_type": "code",
   "execution_count": 3,
   "id": "d3267252",
   "metadata": {},
   "outputs": [
    {
     "name": "stdout",
     "output_type": "stream",
     "text": [
      "X shape: (1000, 15) | y shape: (1000,)\n",
      "예시 컬럼: ['duration', 'amount', 'age', 'cred_hist', 'savings', 'employment', 'installment_rate', 'others', 'sex_male', 'housing_own']\n"
     ]
    }
   ],
   "source": [
    "# 타깃 컬럼 표준화\n",
    "if \"target\" not in df.columns:\n",
    "    if \"class\" in df.columns:\n",
    "        df[\"target\"] = df[\"class\"].map({\"good\": 1, \"bad\": 0}).astype(int)\n",
    "        df.drop(columns=[\"class\"], inplace=True)\n",
    "    else:\n",
    "        raise RuntimeError(\"타깃 컬럼을 찾을 수 없습니다. ('class' 또는 'target' 필요)\")\n",
    "\n",
    "# 기본 결측 처리 (간단히 제거)\n",
    "df = df.dropna(subset=[\"target\"])\n",
    "\n",
    "# 원-핫 인코딩 (존재하는 컬럼에만 적용)\n",
    "cat_candidates = [\n",
    "    \"sex\",\"housing\",\"purpose\",\"job\",\"telephone\",\"foreign_worker\",\n",
    "    \"checking_status\",\"saving_status\",\"other_parties\",\"property_magnitude\"\n",
    "]\n",
    "existing_cats = [c for c in cat_candidates if c in df.columns]\n",
    "\n",
    "df_enc = pd.get_dummies(df, columns=existing_cats, drop_first=True)\n",
    "\n",
    "# 설명 편의상, 명시적으로 사용할 피처 후보\n",
    "if \"sex\" in df.columns and \"sex_male\" not in df_enc.columns:\n",
    "    # pandas.get_dummies의 drop_first=True면 female 기준이면 sex_male 생성 안될 수 있음\n",
    "    # 성별 더미를 명시적으로 보장\n",
    "    df_enc[\"sex_male\"] = (df[\"sex\"] == \"male\").astype(int)\n",
    "\n",
    "# 타깃/피처 분리\n",
    "X = df_enc.drop(columns=[\"target\"])\n",
    "y = df_enc[\"target\"]\n",
    "\n",
    "print(\"X shape:\", X.shape, \"| y shape:\", y.shape)\n",
    "print(\"예시 컬럼:\", list(X.columns)[:10])"
   ]
  },
  {
   "cell_type": "markdown",
   "id": "25a23b1d",
   "metadata": {},
   "source": [
    "## 3) 학습/검증 분리 및 모델 학습/평가"
   ]
  },
  {
   "cell_type": "code",
   "execution_count": 4,
   "id": "87cfb3d5",
   "metadata": {},
   "outputs": [
    {
     "name": "stdout",
     "output_type": "stream",
     "text": [
      "              precision    recall  f1-score   support\n",
      "\n",
      "           0       0.77      0.56      0.65        90\n",
      "           1       0.83      0.93      0.88       210\n",
      "\n",
      "    accuracy                           0.82       300\n",
      "   macro avg       0.80      0.74      0.76       300\n",
      "weighted avg       0.81      0.82      0.81       300\n",
      "\n",
      "ROC AUC: 0.8212169312169312\n"
     ]
    }
   ],
   "source": [
    "from sklearn.model_selection import train_test_split\n",
    "from sklearn.linear_model import LogisticRegression\n",
    "from sklearn.metrics import classification_report, roc_auc_score\n",
    "\n",
    "X_train, X_test, y_train, y_test = train_test_split(\n",
    "    X, y, test_size=0.3, random_state=42, stratify=y if y.nunique()==2 else None\n",
    ")\n",
    "\n",
    "model = LogisticRegression(max_iter=2000)\n",
    "model.fit(X_train, y_train)\n",
    "\n",
    "y_pred = model.predict(X_test)\n",
    "# predict_proba 존재 보장\n",
    "if hasattr(model, \"predict_proba\"):\n",
    "    y_proba = model.predict_proba(X_test)[:,1]\n",
    "else:\n",
    "    y_proba = y_pred.astype(float)\n",
    "\n",
    "print(classification_report(y_test, y_pred))\n",
    "try:\n",
    "    print(\"ROC AUC:\", roc_auc_score(y_test, y_proba))\n",
    "except Exception as e:\n",
    "    print(\"ROC AUC 계산 불가:\", e)"
   ]
  },
  {
   "cell_type": "markdown",
   "id": "fabea66b",
   "metadata": {},
   "source": [
    "## 4) 편향성 측정: 성별 그룹별 예측 비율 (가능한 경우)"
   ]
  },
  {
   "cell_type": "code",
   "execution_count": 5,
   "id": "6d3edef4",
   "metadata": {},
   "outputs": [
    {
     "name": "stdout",
     "output_type": "stream",
     "text": [
      "그룹별 예측(1) 비율 (male=1):\n",
      " group\n",
      "False    0.789474\n",
      "True     0.777027\n",
      "Name: pred, dtype: float64\n"
     ]
    }
   ],
   "source": [
    "import pandas as pd\n",
    "\n",
    "if \"sex_male\" in X_test.columns:\n",
    "    groups = X_test[\"sex_male\"]\n",
    "    df_res = pd.DataFrame({\"group\": groups, \"pred\": y_pred})\n",
    "    rates = df_res.groupby(\"group\")[\"pred\"].mean()\n",
    "    print(\"그룹별 예측(1) 비율 (male=1):\\n\", rates)\n",
    "else:\n",
    "    rates = None\n",
    "    print(\"성별 특성이 없어 편향성 측정을 건너뜁니다.\")"
   ]
  },
  {
   "cell_type": "markdown",
   "id": "5d97c9ea",
   "metadata": {},
   "source": [
    "## 5) 편향 완화: 성별 변수 제거 후 재학습"
   ]
  },
  {
   "cell_type": "code",
   "execution_count": 6,
   "id": "77dab288",
   "metadata": {},
   "outputs": [
    {
     "name": "stdout",
     "output_type": "stream",
     "text": [
      "민감 변수 제거 후 그룹별 예측 비율:\n",
      " group\n",
      "False    0.769737\n",
      "True     0.790541\n",
      "Name: pred2, dtype: float64\n"
     ]
    }
   ],
   "source": [
    "drop_cols = [c for c in X.columns if c.startswith(\"sex_\")] + ([\"sex_male\"] if \"sex_male\" in X.columns else [])\n",
    "X2 = X.drop(columns=drop_cols) if drop_cols else X\n",
    "\n",
    "from sklearn.model_selection import train_test_split\n",
    "X_train2, X_test2, y_train2, y_test2 = train_test_split(\n",
    "    X2, y, test_size=0.3, random_state=42, stratify=y if y.nunique()==2 else None\n",
    ")\n",
    "\n",
    "from sklearn.linear_model import LogisticRegression\n",
    "model2 = LogisticRegression(max_iter=2000)\n",
    "model2.fit(X_train2, y_train2)\n",
    "y_pred2 = model2.predict(X_test2)\n",
    "\n",
    "if \"sex_male\" in X_test.columns:\n",
    "    groups2 = X_test.loc[y_test2.index, \"sex_male\"]\n",
    "    import pandas as pd\n",
    "    df_res2 = pd.DataFrame({\"group\": groups2, \"pred2\": y_pred2})\n",
    "    rates2 = df_res2.groupby(\"group\")[\"pred2\"].mean()\n",
    "    print(\"민감 변수 제거 후 그룹별 예측 비율:\\n\", rates2)\n",
    "else:\n",
    "    rates2 = None\n",
    "    print(\"성별 특성이 없어 편향 완화 비교를 건너뜁니다.\")"
   ]
  },
  {
   "cell_type": "markdown",
   "id": "99e450f6",
   "metadata": {},
   "source": [
    "## 6) (선택) MLflow 기록 및 모델 저장"
   ]
  },
  {
   "cell_type": "code",
   "execution_count": 7,
   "id": "1b978d4f",
   "metadata": {},
   "outputs": [
    {
     "name": "stderr",
     "output_type": "stream",
     "text": [
      "/var/folders/8h/dp71kw8x3c547p3b_x0kfmm00000gn/T/ipykernel_30358/4064005771.py:12: FutureWarning: Series.__getitem__ treating keys as positions is deprecated. In a future version, integer keys will always be treated as labels (consistent with DataFrame behavior). To access a value by position, use `ser.iloc[pos]`\n",
      "  mlflow.log_metric(\"male_rate_before\", float(rates.get(1, np.nan)))\n",
      "/var/folders/8h/dp71kw8x3c547p3b_x0kfmm00000gn/T/ipykernel_30358/4064005771.py:14: FutureWarning: Series.__getitem__ treating keys as positions is deprecated. In a future version, integer keys will always be treated as labels (consistent with DataFrame behavior). To access a value by position, use `ser.iloc[pos]`\n",
      "  mlflow.log_metric(\"male_rate_after\", float(rates2.get(1, np.nan)))\n",
      "2025/08/09 20:54:26 WARNING mlflow.models.model: `artifact_path` is deprecated. Please use `name` instead.\n",
      "\u001b[31m2025/08/09 20:54:27 WARNING mlflow.models.model: Model logged without a signature and input example. Please set `input_example` parameter when logging the model to auto infer the model signature.\u001b[0m\n",
      "2025/08/09 20:54:27 WARNING mlflow.models.model: `artifact_path` is deprecated. Please use `name` instead.\n",
      "\u001b[31m2025/08/09 20:54:29 WARNING mlflow.models.model: Model logged without a signature and input example. Please set `input_example` parameter when logging the model to auto infer the model signature.\u001b[0m\n"
     ]
    },
    {
     "name": "stdout",
     "output_type": "stream",
     "text": [
      "✅ MLflow 기록 완료\n",
      "✅ 모델 저장: credit_lr.pkl\n"
     ]
    }
   ],
   "source": [
    "# MLflow는 설치 여부/환경에 따라 실패할 수 있으므로 안전하게 처리\n",
    "try:\n",
    "    import mlflow, mlflow.sklearn\n",
    "    with mlflow.start_run():\n",
    "        mlflow.log_param(\"model\", \"logistic_regression\")\n",
    "        try:\n",
    "            from sklearn.metrics import roc_auc_score\n",
    "            mlflow.log_metric(\"roc_auc\", roc_auc_score(y_test, y_proba))\n",
    "        except Exception:\n",
    "            pass\n",
    "        if rates is not None:\n",
    "            mlflow.log_metric(\"male_rate_before\", float(rates.get(1, np.nan)))\n",
    "        if rates2 is not None:\n",
    "            mlflow.log_metric(\"male_rate_after\", float(rates2.get(1, np.nan)))\n",
    "        mlflow.sklearn.log_model(model, \"baseline_model\")\n",
    "        mlflow.sklearn.log_model(model2, \"fair_model\")\n",
    "    print(\"✅ MLflow 기록 완료\")\n",
    "except Exception as e:\n",
    "    print(\"MLflow 기록을 건너뜁니다:\", e)\n",
    "\n",
    "# 모델 저장\n",
    "import joblib\n",
    "joblib.dump(model, \"credit_lr.pkl\")\n",
    "print(\"✅ 모델 저장: credit_lr.pkl\")"
   ]
  }
 ],
 "metadata": {
  "kernelspec": {
   "display_name": "venv",
   "language": "python",
   "name": "python3"
  },
  "language_info": {
   "codemirror_mode": {
    "name": "ipython",
    "version": 3
   },
   "file_extension": ".py",
   "mimetype": "text/x-python",
   "name": "python",
   "nbconvert_exporter": "python",
   "pygments_lexer": "ipython3",
   "version": "3.11.13"
  }
 },
 "nbformat": 4,
 "nbformat_minor": 5
}
