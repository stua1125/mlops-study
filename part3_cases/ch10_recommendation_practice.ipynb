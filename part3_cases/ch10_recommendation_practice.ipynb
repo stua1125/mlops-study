{
 "cells": [
  {
   "cell_type": "markdown",
   "id": "48eaa6b3",
   "metadata": {},
   "source": [
    "# CHAPTER 10 실습: 마케팅 추천 엔진\n",
    "\n",
    "『MLOps 도입 가이드』 10장을 바탕으로 **간단한 추천 시스템 파이프라인**을 실습합니다.\n",
    "\n",
    "## 실습 목표\n",
    "- 합성(user–item) 상호작용 데이터 생성\n",
    "- 베이스라인(인기 기반) & 아이템 기반 CF 추천\n",
    "- 오프라인 평가 (Hit@K, NDCG@K)\n",
    "- MLflow로 실험 추적 (파라미터/지표/아티팩트)\n",
    "\n",
    "⚙️ 필요 패키지: `numpy`, `pandas`, `scipy`, `scikit-learn`, `mlflow`\n",
    "> 설치 예: `pip install numpy pandas scipy scikit-learn mlflow`\n"
   ]
  },
  {
   "cell_type": "markdown",
   "id": "25b05655",
   "metadata": {},
   "source": [
    "## 1. 데이터 생성 (합성 상호작용)"
   ]
  },
  {
   "cell_type": "code",
   "execution_count": 7,
   "id": "6a44ebd1",
   "metadata": {},
   "outputs": [
    {
     "data": {
      "text/html": [
       "<div>\n",
       "<style scoped>\n",
       "    .dataframe tbody tr th:only-of-type {\n",
       "        vertical-align: middle;\n",
       "    }\n",
       "\n",
       "    .dataframe tbody tr th {\n",
       "        vertical-align: top;\n",
       "    }\n",
       "\n",
       "    .dataframe thead th {\n",
       "        text-align: right;\n",
       "    }\n",
       "</style>\n",
       "<table border=\"1\" class=\"dataframe\">\n",
       "  <thead>\n",
       "    <tr style=\"text-align: right;\">\n",
       "      <th></th>\n",
       "      <th>user</th>\n",
       "      <th>item</th>\n",
       "      <th>ts</th>\n",
       "    </tr>\n",
       "  </thead>\n",
       "  <tbody>\n",
       "    <tr>\n",
       "      <th>0</th>\n",
       "      <td>0</td>\n",
       "      <td>31</td>\n",
       "      <td>182</td>\n",
       "    </tr>\n",
       "    <tr>\n",
       "      <th>1</th>\n",
       "      <td>0</td>\n",
       "      <td>395</td>\n",
       "      <td>279</td>\n",
       "    </tr>\n",
       "    <tr>\n",
       "      <th>2</th>\n",
       "      <td>0</td>\n",
       "      <td>359</td>\n",
       "      <td>540</td>\n",
       "    </tr>\n",
       "    <tr>\n",
       "      <th>3</th>\n",
       "      <td>0</td>\n",
       "      <td>82</td>\n",
       "      <td>878</td>\n",
       "    </tr>\n",
       "    <tr>\n",
       "      <th>4</th>\n",
       "      <td>0</td>\n",
       "      <td>160</td>\n",
       "      <td>912</td>\n",
       "    </tr>\n",
       "  </tbody>\n",
       "</table>\n",
       "</div>"
      ],
      "text/plain": [
       "   user  item   ts\n",
       "0     0    31  182\n",
       "1     0   395  279\n",
       "2     0   359  540\n",
       "3     0    82  878\n",
       "4     0   160  912"
      ]
     },
     "execution_count": 7,
     "metadata": {},
     "output_type": "execute_result"
    }
   ],
   "source": [
    "import numpy as np\n",
    "import pandas as pd\n",
    "rng = np.random.default_rng(42)\n",
    "\n",
    "# 구성: 사용자 300명, 아이템 400개, 상호작용 15,000건\n",
    "n_users, n_items, n_interactions = 300, 400, 15000\n",
    "users = rng.integers(0, n_users, size=n_interactions)\n",
    "items = rng.integers(0, n_items, size=n_interactions)\n",
    "# 시간 스탬프 (시뮬레이션용): 0 ~ 9999\n",
    "timestamps = rng.integers(0, 10000, size=n_interactions)\n",
    "df = pd.DataFrame({'user': users, 'item': items, 'ts': timestamps}).drop_duplicates(['user','item','ts'])\n",
    "df = df.sort_values(['user','ts']).reset_index(drop=True)\n",
    "df.head()"
   ]
  },
  {
   "cell_type": "markdown",
   "id": "2f911a76",
   "metadata": {},
   "source": [
    "## 2. Train/Test 분할 (Leave-One-Out by user)"
   ]
  },
  {
   "cell_type": "code",
   "execution_count": 8,
   "id": "5444a168",
   "metadata": {},
   "outputs": [
    {
     "name": "stdout",
     "output_type": "stream",
     "text": [
      "Train: 14700, Test: 300 (users=300)\n"
     ]
    },
    {
     "data": {
      "text/html": [
       "<div>\n",
       "<style scoped>\n",
       "    .dataframe tbody tr th:only-of-type {\n",
       "        vertical-align: middle;\n",
       "    }\n",
       "\n",
       "    .dataframe tbody tr th {\n",
       "        vertical-align: top;\n",
       "    }\n",
       "\n",
       "    .dataframe thead th {\n",
       "        text-align: right;\n",
       "    }\n",
       "</style>\n",
       "<table border=\"1\" class=\"dataframe\">\n",
       "  <thead>\n",
       "    <tr style=\"text-align: right;\">\n",
       "      <th></th>\n",
       "      <th>user</th>\n",
       "      <th>item</th>\n",
       "      <th>ts</th>\n",
       "    </tr>\n",
       "  </thead>\n",
       "  <tbody>\n",
       "    <tr>\n",
       "      <th>0</th>\n",
       "      <td>0</td>\n",
       "      <td>31</td>\n",
       "      <td>182</td>\n",
       "    </tr>\n",
       "    <tr>\n",
       "      <th>1</th>\n",
       "      <td>0</td>\n",
       "      <td>395</td>\n",
       "      <td>279</td>\n",
       "    </tr>\n",
       "    <tr>\n",
       "      <th>2</th>\n",
       "      <td>0</td>\n",
       "      <td>359</td>\n",
       "      <td>540</td>\n",
       "    </tr>\n",
       "    <tr>\n",
       "      <th>3</th>\n",
       "      <td>0</td>\n",
       "      <td>82</td>\n",
       "      <td>878</td>\n",
       "    </tr>\n",
       "    <tr>\n",
       "      <th>4</th>\n",
       "      <td>0</td>\n",
       "      <td>160</td>\n",
       "      <td>912</td>\n",
       "    </tr>\n",
       "  </tbody>\n",
       "</table>\n",
       "</div>"
      ],
      "text/plain": [
       "   user  item   ts\n",
       "0     0    31  182\n",
       "1     0   395  279\n",
       "2     0   359  540\n",
       "3     0    82  878\n",
       "4     0   160  912"
      ]
     },
     "execution_count": 8,
     "metadata": {},
     "output_type": "execute_result"
    }
   ],
   "source": [
    "test_idx = df.groupby('user')['ts'].idxmax()  # 각 사용자 최신 상호작용 1건\n",
    "test = df.loc[test_idx].reset_index(drop=True)\n",
    "train = df.drop(index=test_idx).reset_index(drop=True)\n",
    "print(f\"Train: {len(train)}, Test: {len(test)} (users={train['user'].nunique()})\")\n",
    "train.head()"
   ]
  },
  {
   "cell_type": "markdown",
   "id": "ad4e8847",
   "metadata": {},
   "source": [
    "## 3. 평가 지표 (Hit@K, NDCG@K)"
   ]
  },
  {
   "cell_type": "code",
   "execution_count": 9,
   "id": "d226be52",
   "metadata": {},
   "outputs": [
    {
     "name": "stdout",
     "output_type": "stream",
     "text": [
      "지표 함수 준비 완료\n"
     ]
    }
   ],
   "source": [
    "from math import log2\n",
    "def evaluate_ranking(recommend_func, K=10):\n",
    "    hits, ndcgs, evaluated = 0, 0.0, 0\n",
    "    user_train_items = train.groupby('user')['item'].apply(set).to_dict()\n",
    "    for _, row in test.iterrows():\n",
    "        u, true_item = int(row['user']), int(row['item'])\n",
    "        seen = user_train_items.get(u, set())\n",
    "        recs = recommend_func(u, seen=seen, K=K)\n",
    "        if not recs:\n",
    "            continue\n",
    "        evaluated += 1\n",
    "        if true_item in recs:\n",
    "            hits += 1\n",
    "            rank = recs.index(true_item) + 1\n",
    "            ndcgs += 1.0 / log2(rank + 1)\n",
    "    hit_rate = hits / max(1, evaluated)\n",
    "    ndcg = ndcgs / max(1, evaluated)\n",
    "    return {'hit@K': hit_rate, 'ndcg@K': ndcg, 'evaluated': evaluated}\n",
    "\n",
    "print('지표 함수 준비 완료')"
   ]
  },
  {
   "cell_type": "markdown",
   "id": "cfef683c",
   "metadata": {},
   "source": [
    "## 4. 베이스라인: 인기(POP) 추천"
   ]
  },
  {
   "cell_type": "code",
   "execution_count": 10,
   "id": "acfe9097",
   "metadata": {},
   "outputs": [
    {
     "data": {
      "text/plain": [
       "{'hit@K': 0.03, 'ndcg@K': 0.014279611271625203, 'evaluated': 300}"
      ]
     },
     "execution_count": 10,
     "metadata": {},
     "output_type": "execute_result"
    }
   ],
   "source": [
    "item_pop = train['item'].value_counts().index.tolist()\n",
    "def recommend_pop(user_id, seen=None, K=10):\n",
    "    seen = seen or set()\n",
    "    recs = [it for it in item_pop if it not in seen]\n",
    "    return recs[:K]\n",
    "\n",
    "metrics_pop = evaluate_ranking(recommend_pop, K=10)\n",
    "metrics_pop"
   ]
  },
  {
   "cell_type": "markdown",
   "id": "7097fd42",
   "metadata": {},
   "source": [
    "## 5. 아이템 기반 협업 필터링 (Cosine)"
   ]
  },
  {
   "cell_type": "code",
   "execution_count": 11,
   "id": "8341d93f",
   "metadata": {},
   "outputs": [
    {
     "data": {
      "text/plain": [
       "{'hit@K': 0.04666666666666667,\n",
       " 'ndcg@K': 0.021186167176967405,\n",
       " 'evaluated': 300}"
      ]
     },
     "execution_count": 11,
     "metadata": {},
     "output_type": "execute_result"
    }
   ],
   "source": [
    "from scipy.sparse import csr_matrix\n",
    "from sklearn.metrics.pairwise import cosine_similarity\n",
    "\n",
    "# 사용자-아이템 행렬 (train 기준)\n",
    "ui = train.copy()\n",
    "ui['val'] = 1.0\n",
    "mat = csr_matrix(\n",
    "    (ui['val'], (ui['user'], ui['item'])), shape=(n_users, n_items)\n",
    ")\n",
    "\n",
    "# 아이템-아이템 유사도 (cosine): 메모리 고려해서 400x400은 직접 계산\n",
    "item_sim = cosine_similarity(mat.T, dense_output=False)  # (n_items, n_items)\n",
    "\n",
    "item_pop_set = set(item_pop)\n",
    "def recommend_itemcf(user_id, seen=None, K=10):\n",
    "    seen = seen or set()\n",
    "    # 사용자의 학습 아이템 벡터\n",
    "    user_vec = mat[user_id]  # (1, n_items)\n",
    "    # 유사도 기반 점수: S * u\n",
    "    scores = item_sim.dot(user_vec.T).toarray().ravel()\n",
    "    # 본 아이템 제외\n",
    "    scores[list(seen)] = -1e9\n",
    "    # 상위 K 추출\n",
    "    top_idx = np.argpartition(-scores, range(min(K*10, len(scores))))[:max(K*2, K)]\n",
    "    top_sorted = top_idx[np.argsort(-scores[top_idx])]\n",
    "    recs = [int(i) for i in top_sorted if i not in seen][:K]\n",
    "    # 후보 부족 시 인기 아이템로 보충\n",
    "    if len(recs) < K:\n",
    "        for it in item_pop:\n",
    "            if it not in seen and it not in recs:\n",
    "                recs.append(int(it))\n",
    "                if len(recs) >= K:\n",
    "                    break\n",
    "    return recs\n",
    "\n",
    "metrics_itemcf = evaluate_ranking(recommend_itemcf, K=10)\n",
    "metrics_itemcf"
   ]
  },
  {
   "cell_type": "markdown",
   "id": "6548a250",
   "metadata": {},
   "source": [
    "## 6. MLflow로 실험 추적"
   ]
  },
  {
   "cell_type": "code",
   "execution_count": 12,
   "id": "858ad204",
   "metadata": {},
   "outputs": [
    {
     "name": "stdout",
     "output_type": "stream",
     "text": [
      "✅ MLflow 로그 완료 (mlruns/ 확인)\n"
     ]
    }
   ],
   "source": [
    "import mlflow\n",
    "mlflow.set_experiment('reco_ch10')\n",
    "with mlflow.start_run(run_name='pop_vs_itemcf'):\n",
    "    mlflow.log_param('n_users', n_users)\n",
    "    mlflow.log_param('n_items', n_items)\n",
    "    mlflow.log_param('n_interactions', n_interactions)\n",
    "    mlflow.log_param('K', 10)\n",
    "\n",
    "    mlflow.log_metric('pop_hit_at_10', float(metrics_pop['hit@K']))\n",
    "    mlflow.log_metric('pop_ndcg_at_10', float(metrics_pop['ndcg@K']))\n",
    "    mlflow.log_metric('itemcf_hit_at_10', float(metrics_itemcf['hit@K']))\n",
    "    mlflow.log_metric('itemcf_ndcg_at_10', float(metrics_itemcf['ndcg@K']))\n",
    "    # 아티팩트 저장: 간단 리포트\n",
    "    report = {\n",
    "        'metrics_pop': metrics_pop,\n",
    "        'metrics_itemcf': metrics_itemcf\n",
    "    }\n",
    "    mlflow.log_dict(report, 'report.json')\n",
    "print('✅ MLflow 로그 완료 (mlruns/ 확인)')"
   ]
  },
  {
   "cell_type": "markdown",
   "id": "57b509ad",
   "metadata": {},
   "source": [
    "## 7. 사용자별 추천 예시"
   ]
  },
  {
   "cell_type": "code",
   "execution_count": null,
   "id": "13877aa4",
   "metadata": {},
   "outputs": [],
   "source": [
    "sample_user = int(rng.integers(0, n_users))\n",
    "seen = set(train[train['user']==sample_user]['item'].tolist())\n",
    "print('샘플 사용자:', sample_user, '| 학습에서 본 아이템 수:', len(seen))\n",
    "print('POP 추천:', recommend_pop(sample_user, seen=seen, K=10))\n",
    "print('ItemCF 추천:', recommend_itemcf(sample_user, seen=seen, K=10))"
   ]
  },
  {
   "cell_type": "markdown",
   "id": "90b879dc",
   "metadata": {},
   "source": [
    "### 끝!\n",
    "- 이 노트북은 **배치 오프라인 평가** 중심입니다.\n",
    "- 온라인 서빙/실험(A/B)은 FastAPI + Vector DB/ANN(예: FAISS)로 확장할 수 있습니다.\n",
    "- 원하시면 실시간 후보생성(ANN) 및 재순위화(학습된 랭커) 템플릿도 만들어 드릴게요."
   ]
  }
 ],
 "metadata": {
  "kernelspec": {
   "display_name": "venv",
   "language": "python",
   "name": "python3"
  },
  "language_info": {
   "codemirror_mode": {
    "name": "ipython",
    "version": 3
   },
   "file_extension": ".py",
   "mimetype": "text/x-python",
   "name": "python",
   "nbconvert_exporter": "python",
   "pygments_lexer": "ipython3",
   "version": "3.11.13"
  }
 },
 "nbformat": 4,
 "nbformat_minor": 5
}
