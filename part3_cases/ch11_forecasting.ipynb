{
 "cells": [
  {
   "cell_type": "markdown",
   "id": "a7fc9696",
   "metadata": {},
   "source": [
    "\n",
    "# Ch11 — Forecasting 실습 (MLOps 도입 가이드)\n",
    "\n",
    "이 노트북은 소비(전력) 예측 시나리오를 예제로, **데이터 준비 → 베이스라인 → 모델링(Prophet) → 평가 → MLflow 기록** 까지 한 번에 실습할 수 있도록 설계되었습니다.\n",
    "\n",
    "## 학습 목표\n",
    "- 시계열 데이터 준비 및 시각화\n",
    "- 베이스라인(naive, 이동평균) vs ML 모델 성능 비교\n",
    "- Prophet을 이용한 예측 및 구성요소 분석\n",
    "- MLflow를 통한 실험 기록(파라미터/지표/플롯/아티팩트)\n",
    "\n",
    "> ⚠️ 실제 책의 데이터셋이 공개되지 않았다고 가정하여 **합성 데이터**로 재현합니다.  \n",
    "> 원한다면 CSV를 불러와 동일한 파이프라인에 대입할 수 있도록 셀을 분리해두었습니다.\n"
   ]
  },
  {
   "cell_type": "code",
   "execution_count": null,
   "id": "0a5f482b",
   "metadata": {},
   "outputs": [],
   "source": [
    "\n",
    "# (선택) 의존성 설치: 로컬 환경에 Prophet, MLflow가 없다면 실행하세요.\n",
    "# 주피터 환경/OS 따라 설치가 다를 수 있습니다. 실패 시 공식 문서를 참고하세요.\n",
    "# !pip install -q pandas numpy matplotlib scikit-learn mlflow prophet\n"
   ]
  },
  {
   "cell_type": "code",
   "execution_count": null,
   "id": "2ef0012d",
   "metadata": {},
   "outputs": [],
   "source": [
    "\n",
    "import os\n",
    "import math\n",
    "import json\n",
    "import pickle\n",
    "import warnings\n",
    "warnings.filterwarnings(\"ignore\")\n",
    "\n",
    "import numpy as np\n",
    "import pandas as pd\n",
    "import matplotlib.pyplot as plt\n",
    "\n",
    "from sklearn.metrics import mean_absolute_error, mean_squared_error\n",
    "from sklearn.model_selection import train_test_split\n",
    "\n",
    "# Prophet은 설치가 안 되어 있으면 아래 import에서 오류가 날 수 있습니다.\n",
    "try:\n",
    "    from prophet import Prophet\n",
    "    HAS_PROPHET = True\n",
    "except Exception as e:\n",
    "    HAS_PROPHET = False\n",
    "    print(\"Prophet 미설치 또는 로드 실패:\", e)\n",
    "\n",
    "try:\n",
    "    import mlflow\n",
    "    HAS_MLFLOW = True\n",
    "except Exception as e:\n",
    "    HAS_MLFLOW = False\n",
    "    print(\"MLflow 미설치 또는 로드 실패:\", e)\n",
    "\n",
    "np.random.seed(42)\n",
    "pd.set_option(\"display.max_rows\", 10)\n"
   ]
  },
  {
   "cell_type": "markdown",
   "id": "9054cdce",
   "metadata": {},
   "source": [
    "\n",
    "## 1. 데이터 준비 (합성 시계열)\n",
    "- 일 단위 전력소비량을 2년간 생성\n",
    "- 주기성(약 30일), 주간 패턴(요일 효과), 트렌드, 잡음 포함\n"
   ]
  },
  {
   "cell_type": "code",
   "execution_count": null,
   "id": "26e59c2d",
   "metadata": {},
   "outputs": [],
   "source": [
    "\n",
    "# 날짜 생성: 2년(2023-01-01 ~ 2024-12-31)\n",
    "ds = pd.date_range(start=\"2023-01-01\", end=\"2024-12-31\", freq=\"D\")\n",
    "\n",
    "# 기본 수준 + 월간 주기성 + 주간(요일) 패턴 + 점진적 트렌드 + 노이즈\n",
    "base = 120\n",
    "monthly_cycle = 10 * np.sin(np.arange(len(ds))/30)\n",
    "weekday = pd.Series(ds).dt.weekday.values  # 0=Mon ... 6=Sun\n",
    "weekday_effect = np.where(weekday < 5, 5, -3)  # 평일 ↑, 주말 ↓ (예시)\n",
    "trend = np.linspace(0, 15, len(ds))           # 완만한 증가\n",
    "noise = np.random.normal(0, 3, len(ds))\n",
    "\n",
    "y = base + monthly_cycle + weekday_effect + trend + noise\n",
    "\n",
    "df = pd.DataFrame({\"ds\": ds, \"y\": y})\n",
    "df.head()\n"
   ]
  },
  {
   "cell_type": "markdown",
   "id": "b64e5ec6",
   "metadata": {},
   "source": [
    "\n",
    "### (선택) CSV 로드로 대체\n",
    "아래 셀에서 `your_timeseries.csv` 파일을 불러올 수 있습니다.  \n",
    "열 이름은 `ds`(datetime), `y`(target) 로 맞춰주세요.\n"
   ]
  },
  {
   "cell_type": "code",
   "execution_count": null,
   "id": "b9e5e187",
   "metadata": {},
   "outputs": [],
   "source": [
    "\n",
    "# csv_path = \"your_timeseries.csv\"\n",
    "# df = pd.read_csv(csv_path, parse_dates=[\"ds\"])[[\"ds\", \"y\"]]\n",
    "# df = df.sort_values(\"ds\").reset_index(drop=True)\n",
    "# df.head()\n"
   ]
  },
  {
   "cell_type": "markdown",
   "id": "a12ffae6",
   "metadata": {},
   "source": [
    "\n",
    "## 2. 빠른 EDA (시각화)\n"
   ]
  },
  {
   "cell_type": "code",
   "execution_count": null,
   "id": "ad00d67f",
   "metadata": {},
   "outputs": [],
   "source": [
    "\n",
    "plt.figure(figsize=(12,4))\n",
    "plt.plot(df[\"ds\"], df[\"y\"], label=\"usage\")\n",
    "plt.title(\"Daily Consumption (Synthetic)\")\n",
    "plt.xlabel(\"date\"); plt.ylabel(\"y\")\n",
    "plt.legend(); plt.show()\n",
    "\n",
    "print(df.describe())\n"
   ]
  },
  {
   "cell_type": "markdown",
   "id": "2111a32f",
   "metadata": {},
   "source": [
    "\n",
    "## 3. 학습/검증 분리\n",
    "- 최근 30일을 검증 집합으로 사용\n"
   ]
  },
  {
   "cell_type": "code",
   "execution_count": null,
   "id": "7eb9cef3",
   "metadata": {},
   "outputs": [],
   "source": [
    "\n",
    "horizon = 30\n",
    "train = df.iloc[:-horizon].copy()\n",
    "valid = df.iloc[-horizon:].copy()\n",
    "print(train.tail(2))\n",
    "print(valid.head(2))\n"
   ]
  },
  {
   "cell_type": "markdown",
   "id": "9dcfafff",
   "metadata": {},
   "source": [
    "\n",
    "## 4. 베이스라인 모델\n",
    "- **Naive(last)**: 마지막 관측값을 그대로 예측\n",
    "- **Seasonal Naive (last week)**: 7일 전 값을 예측값으로 사용\n",
    "- **Moving Average(7d)**: 직전 7일 이동평균\n"
   ]
  },
  {
   "cell_type": "code",
   "execution_count": null,
   "id": "147e86fb",
   "metadata": {},
   "outputs": [],
   "source": [
    "\n",
    "def mae_rmse(y_true, y_pred):\n",
    "    mae = mean_absolute_error(y_true, y_pred)\n",
    "    rmse = math.sqrt(mean_squared_error(y_true, y_pred))\n",
    "    return mae, rmse\n",
    "\n",
    "# 4.1 Naive (last value)\n",
    "last_value = train[\"y\"].iloc[-1]\n",
    "y_pred_naive = np.array([last_value]*len(valid))\n",
    "mae_naive, rmse_naive = mae_rmse(valid[\"y\"].values, y_pred_naive)\n",
    "\n",
    "# 4.2 Seasonal Naive (last week)\n",
    "# 검증 구간의 각 t에 대해, 학습 마지막 7일 뒤의 값이 없으므로\n",
    "# 간단히 학습 말미 7일을 valid 길이만큼 순환해 사용\n",
    "last_week = train[\"y\"].iloc[-7:].values\n",
    "y_pred_seasonal = np.resize(last_week, len(valid))\n",
    "mae_seasonal, rmse_seasonal = mae_rmse(valid[\"y\"].values, y_pred_seasonal)\n",
    "\n",
    "# 4.3 Moving Average (7d)\n",
    "rolling = train[\"y\"].rolling(7).mean().dropna()\n",
    "ma7 = rolling.iloc[-1]\n",
    "y_pred_ma7 = np.array([ma7]*len(valid))\n",
    "mae_ma7, rmse_ma7 = mae_rmse(valid[\"y\"].values, y_pred_ma7)\n",
    "\n",
    "pd.DataFrame({\n",
    "    \"model\": [\"naive_last\", \"seasonal_naive(last_week)\", \"moving_avg_7d\"],\n",
    "    \"MAE\": [mae_naive, mae_seasonal, mae_ma7],\n",
    "    \"RMSE\": [rmse_naive, rmse_seasonal, rmse_ma7]\n",
    "})\n"
   ]
  },
  {
   "cell_type": "markdown",
   "id": "8a4e0b5d",
   "metadata": {},
   "source": [
    "\n",
    "## 5. Prophet 모델 학습\n",
    "- 시계열 전용 알고리즘 Prophet으로 모델링\n",
    "- 예측 구간: 30일\n"
   ]
  },
  {
   "cell_type": "code",
   "execution_count": null,
   "id": "fd0eed4a",
   "metadata": {},
   "outputs": [],
   "source": [
    "\n",
    "if HAS_PROPHET:\n",
    "    m = Prophet()\n",
    "    m.fit(train.copy())\n",
    "\n",
    "    future = m.make_future_dataframe(periods=len(valid), freq=\"D\")\n",
    "    fcst = m.predict(future)\n",
    "\n",
    "    # 검증 구간에 해당하는 부분 추출\n",
    "    fcst_valid = fcst.iloc[-len(valid):][[\"ds\", \"yhat\", \"yhat_lower\", \"yhat_upper\"]].reset_index(drop=True)\n",
    "    eval_df = valid.reset_index(drop=True).merge(fcst_valid, on=\"ds\", how=\"left\")\n",
    "\n",
    "    mae_prophet, rmse_prophet = mae_rmse(eval_df[\"y\"].values, eval_df[\"yhat\"].values)\n",
    "\n",
    "    print(\"Prophet → MAE:\", round(mae_prophet, 4), \"RMSE:\", round(rmse_prophet, 4))\n",
    "\n",
    "    # 플롯\n",
    "    fig1 = m.plot(fcst)\n",
    "    plt.title(\"Prophet Forecast\")\n",
    "    plt.show()\n",
    "\n",
    "    fig2 = m.plot_components(fcst)\n",
    "    plt.show()\n",
    "else:\n",
    "    print(\"Prophet이 설치되어 있지 않아 이 섹션을 건너뜁니다. 상단 '설치' 셀을 먼저 실행하세요.\")\n"
   ]
  },
  {
   "cell_type": "markdown",
   "id": "f2c634e5",
   "metadata": {},
   "source": [
    "\n",
    "## 6. 성능 비교 (베이스라인 vs Prophet)\n"
   ]
  },
  {
   "cell_type": "code",
   "execution_count": null,
   "id": "2fd61709",
   "metadata": {},
   "outputs": [],
   "source": [
    "\n",
    "rows = [\n",
    "    (\"naive_last\", mae_naive, rmse_naive),\n",
    "    (\"seasonal_naive(last_week)\", mae_seasonal, rmse_seasonal),\n",
    "    (\"moving_avg_7d\", mae_ma7, rmse_ma7)\n",
    "]\n",
    "if HAS_PROPHET:\n",
    "    rows.append((\"prophet\", mae_prophet, rmse_prophet))\n",
    "\n",
    "compare_df = pd.DataFrame(rows, columns=[\"model\", \"MAE\", \"RMSE\"]).sort_values(\"RMSE\").reset_index(drop=True)\n",
    "compare_df\n"
   ]
  },
  {
   "cell_type": "markdown",
   "id": "9e9df0d1",
   "metadata": {},
   "source": [
    "\n",
    "## 7. MLflow 기록\n",
    "- 모델/파라미터/지표/플롯 저장\n"
   ]
  },
  {
   "cell_type": "code",
   "execution_count": null,
   "id": "f1a4f780",
   "metadata": {},
   "outputs": [],
   "source": [
    "\n",
    "if HAS_MLFLOW:\n",
    "    mlflow.set_experiment(\"ch11_forecasting_demo\")\n",
    "\n",
    "    with mlflow.start_run(run_name=\"baseline_vs_prophet\"):\n",
    "        # 파라미터\n",
    "        mlflow.log_param(\"horizon\", 30)\n",
    "        mlflow.log_param(\"has_prophet\", HAS_PROPHET)\n",
    "\n",
    "        # 지표\n",
    "        mlflow.log_metric(\"mae_naive\", mae_naive)\n",
    "        mlflow.log_metric(\"rmse_naive\", rmse_naive)\n",
    "        mlflow.log_metric(\"mae_seasonal\", mae_seasonal)\n",
    "        mlflow.log_metric(\"rmse_seasonal\", rmse_seasonal)\n",
    "        mlflow.log_metric(\"mae_ma7\", mae_ma7)\n",
    "        mlflow.log_metric(\"rmse_ma7\", rmse_ma7)\n",
    "\n",
    "        if HAS_PROPHET:\n",
    "            mlflow.log_metric(\"mae_prophet\", mae_prophet)\n",
    "            mlflow.log_metric(\"rmse_prophet\", rmse_prophet)\n",
    "\n",
    "        # 아티팩트(플롯 저장 후 로깅)\n",
    "        os.makedirs(\"artifacts\", exist_ok=True)\n",
    "        plt.figure(figsize=(12,4))\n",
    "        plt.plot(df[\"ds\"], df[\"y\"], label=\"usage\")\n",
    "        plt.title(\"Daily Consumption (Synthetic)\")\n",
    "        plt.xlabel(\"date\"); plt.ylabel(\"y\"); plt.legend()\n",
    "        plt.tight_layout()\n",
    "        plot_path = \"artifacts/timeseries.png\"\n",
    "        plt.savefig(plot_path)\n",
    "        plt.close()\n",
    "        mlflow.log_artifact(plot_path)\n",
    "\n",
    "        # 비교표 저장\n",
    "        compare_path = \"artifacts/compare.csv\"\n",
    "        compare_df.to_csv(compare_path, index=False)\n",
    "        mlflow.log_artifact(compare_path)\n",
    "\n",
    "        # Prophet 모델 저장(옵션)\n",
    "        if HAS_PROPHET:\n",
    "            # 간단히 pickle 저장 (프로덕션에선 전용 저장 포맷/모듈 권장)\n",
    "            with open(\"artifacts/prophet.pkl\", \"wb\") as f:\n",
    "                pickle.dump(m, f)\n",
    "            mlflow.log_artifact(\"artifacts/prophet.pkl\")\n",
    "\n",
    "    print(\"MLflow 로깅 완료. `mlflow ui` 로 대시보드를 확인하세요.\")\n",
    "else:\n",
    "    print(\"MLflow 미설치로 기록을 건너뜁니다. 상단 '설치' 셀을 먼저 실행하세요.\")\n"
   ]
  },
  {
   "cell_type": "markdown",
   "id": "dfd29bcc",
   "metadata": {},
   "source": [
    "\n",
    "## 8. (옵션) 서빙 아이디어\n",
    "FastAPI로 간단한 예측 API를 구성할 수 있습니다. 아래는 **개념 예시**입니다.\n",
    "\n",
    "```python\n",
    "# app.py\n",
    "from fastapi import FastAPI\n",
    "import pandas as pd\n",
    "import pickle\n",
    "from prophet import Prophet\n",
    "\n",
    "app = FastAPI()\n",
    "model = pickle.load(open(\"artifacts/prophet.pkl\", \"rb\"))\n",
    "\n",
    "@app.get(\"/forecast\")\n",
    "def forecast(days: int = 7):\n",
    "    future = model.make_future_dataframe(periods=days, freq=\"D\")\n",
    "    fcst = model.predict(future).tail(days)[[\"ds\", \"yhat\", \"yhat_lower\", \"yhat_upper\"]]\n",
    "    return fcst.to_dict(orient=\"records\")\n",
    "```\n"
   ]
  }
 ],
 "metadata": {},
 "nbformat": 4,
 "nbformat_minor": 5
}
