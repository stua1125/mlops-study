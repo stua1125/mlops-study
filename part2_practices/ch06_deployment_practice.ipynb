{
 "cells": [
  {
   "cell_type": "markdown",
   "id": "3634734a",
   "metadata": {},
   "source": [
    "# CHAPTER 6 실습: 상용 배포 준비\n",
    "\n",
    "이 노트북은 『MLOps 도입 가이드』 6장의 내용을 기반으로, 상용 배포 전 자동화 및 패키징을 실습합니다.\n",
    "\n",
    "실습 항목:\n",
    "- 모델 학습 및 저장\n",
    "- MLflow 모델 로깅\n",
    "- Dockerfile 생성 가이드 출력"
   ]
  },
  {
   "cell_type": "markdown",
   "id": "9122db3d",
   "metadata": {},
   "source": [
    "## 1. 모델 학습 및 저장"
   ]
  },
  {
   "cell_type": "code",
   "execution_count": null,
   "id": "6234e216",
   "metadata": {},
   "outputs": [],
   "source": [
    "import pandas as pd\n",
    "import seaborn as sns\n",
    "from sklearn.ensemble import RandomForestClassifier\n",
    "import joblib\n",
    "\n",
    "# 데이터 로딩 및 전처리\n",
    "df = sns.load_dataset('titanic').dropna(subset=['age','embarked'])\n",
    "df['sex'] = df['sex'].map({'male':0,'female':1})\n",
    "df['embarked'] = df['embarked'].astype('category').cat.codes\n",
    "features = ['pclass','sex','age','sibsp','parch','fare','embarked']\n",
    "X = df[features]\n",
    "y = df['survived']\n",
    "\n",
    "# 모델 학습\n",
    "model = RandomForestClassifier(n_estimators=100, random_state=42)\n",
    "model.fit(X, y)\n",
    "\n",
    "# 모델 저장\n",
    "joblib.dump(model, 'model_rf.pkl')\n",
    "print('✅ 모델 저장 완료: model_rf.pkl')"
   ]
  },
  {
   "cell_type": "markdown",
   "id": "814d6d82",
   "metadata": {},
   "source": [
    "## 2. MLflow 모델 로깅"
   ]
  },
  {
   "cell_type": "code",
   "execution_count": null,
   "id": "52792e20",
   "metadata": {},
   "outputs": [],
   "source": [
    "import mlflow\n",
    "import mlflow.sklearn\n",
    "\n",
    "mlflow.set_experiment('deployment_test')\n",
    "with mlflow.start_run():\n",
    "    mlflow.log_param('n_estimators', 100)\n",
    "    mlflow.log_metric('accuracy', model.score(X, y))\n",
    "    mlflow.sklearn.log_model(model, 'model')\n",
    "print('✅ MLflow 모델 로깅 완료')"
   ]
  },
  {
   "cell_type": "markdown",
   "id": "bcee2828",
   "metadata": {},
   "source": [
    "## 3. Dockerfile 예시"
   ]
  },
  {
   "cell_type": "code",
   "execution_count": null,
   "id": "49f0a5c9",
   "metadata": {},
   "outputs": [],
   "source": [
    "dockerfile = '''\n",
    "# Dockerfile for model serving\n",
    "FROM python:3.11-slim\n",
    "WORKDIR /app\n",
    "\n",
    "COPY model_rf.pkl ./\n",
    "COPY requirements.txt ./\n",
    "RUN pip install -r requirements.txt\n",
    "\n",
    "CMD ['python', 'serve.py']\n",
    "'''\n",
    "print(dockerfile)"
   ]
  },
  {
   "cell_type": "markdown",
   "id": "3a921b8f",
   "metadata": {},
   "source": [
    "🔧 `requirements.txt` 및 `serve.py` 파일은 별도로 작성하여 컨테이너에서 모델 서빙 API를 구현하세요.\n",
    "\n",
    "- 예: Flask, FastAPI를 이용해 `model_rf.pkl` 로드 후 `/predict` 엔드포인트 생성\n",
    "- `requirements.txt`에는 `scikit-learn`, `mlflow`, `joblib`, `flask` 등 포함 가능\n",
    "\n",
    "이 실습은 배포 전 모델 패키징 및 아티팩트 관리의 기초를 보여줍니다."
   ]
  }
 ],
 "metadata": {},
 "nbformat": 4,
 "nbformat_minor": 5
}