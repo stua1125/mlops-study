{
 "cells": [
  {
   "cell_type": "markdown",
   "id": "aa7f41f2",
   "metadata": {},
   "source": [
    "# 🧪 CHAPTER 4 실습: 모델 개발"
   ]
  },
  {
   "cell_type": "markdown",
   "id": "055d01ba",
   "metadata": {},
   "source": [
    "이 노트북은 『MLOps 도입 가이드』 4장의 내용을 실습하기 위한 템플릿입니다."
   ]
  },
  {
   "cell_type": "markdown",
   "id": "3d921fd3",
   "metadata": {},
   "source": [
    "## ✅ 실습 순서\n",
    "1. 데이터 로딩 및 탐색\n",
    "2. 특성 엔지니어링\n",
    "3. 모델 학습 및 평가\n",
    "4. 실험 추적 (MLflow)\n",
    "5. 모델 버전 저장"
   ]
  },
  {
   "cell_type": "markdown",
   "id": "db178210",
   "metadata": {},
   "source": [
    "## 1. 데이터 로딩 및 탐색"
   ]
  },
  {
   "cell_type": "code",
   "execution_count": null,
   "id": "a86dc332",
   "metadata": {},
   "outputs": [],
   "source": [
    "import pandas as pd\n",
    "import seaborn as sns\n",
    "import matplotlib.pyplot as plt\n",
    "\n",
    "# 예시 데이터셋: 타이타닉\n",
    "sns.set()\n",
    "data = sns.load_dataset('titanic')\n",
    "data.head()"
   ]
  },
  {
   "cell_type": "markdown",
   "id": "6f099cd0",
   "metadata": {},
   "source": [
    "## 2. 특성 엔지니어링"
   ]
  },
  {
   "cell_type": "code",
   "execution_count": null,
   "id": "7e2befae",
   "metadata": {},
   "outputs": [],
   "source": [
    "# 간단한 전처리 예시\n",
    "data = data.dropna(subset=['age', 'embarked'])\n",
    "data['sex'] = data['sex'].map({'male': 0, 'female': 1})\n",
    "data['embarked'] = data['embarked'].astype('category').cat.codes\n",
    "features = ['pclass', 'sex', 'age', 'sibsp', 'parch', 'fare', 'embarked']\n",
    "X = data[features]\n",
    "y = data['survived']"
   ]
  },
  {
   "cell_type": "markdown",
   "id": "4f6b1825",
   "metadata": {},
   "source": [
    "## 3. 모델 학습 및 평가"
   ]
  },
  {
   "cell_type": "code",
   "execution_count": null,
   "id": "429e2d0b",
   "metadata": {},
   "outputs": [],
   "source": [
    "from sklearn.model_selection import train_test_split\n",
    "from sklearn.ensemble import RandomForestClassifier\n",
    "from sklearn.metrics import classification_report\n",
    "\n",
    "X_train, X_test, y_train, y_test = train_test_split(X, y, test_size=0.2, random_state=42)\n",
    "model = RandomForestClassifier(n_estimators=100, random_state=42)\n",
    "model.fit(X_train, y_train)\n",
    "y_pred = model.predict(X_test)\n",
    "print(classification_report(y_test, y_pred))"
   ]
  },
  {
   "cell_type": "markdown",
   "id": "88f9ed5f",
   "metadata": {},
   "source": [
    "## 4. 실험 추적 (MLflow)"
   ]
  },
  {
   "cell_type": "code",
   "execution_count": null,
   "id": "b710b0f1",
   "metadata": {},
   "outputs": [],
   "source": [
    "import mlflow\n",
    "import mlflow.sklearn\n",
    "\n",
    "with mlflow.start_run():\n",
    "    mlflow.log_param(\"n_estimators\", 100)\n",
    "    mlflow.log_metric(\"accuracy\", model.score(X_test, y_test))\n",
    "    mlflow.sklearn.log_model(model, \"random_forest_model\")"
   ]
  },
  {
   "cell_type": "markdown",
   "id": "7ddb9b73",
   "metadata": {},
   "source": [
    "## 5. 모델 저장 (joblib)"
   ]
  },
  {
   "cell_type": "code",
   "execution_count": null,
   "id": "3492f2ad",
   "metadata": {},
   "outputs": [],
   "source": [
    "import joblib\n",
    "joblib.dump(model, 'rf_model.pkl')"
   ]
  },
  {
   "cell_type": "markdown",
   "id": "a1822739",
   "metadata": {},
   "source": [
    "✅ 이제 모델 파일은 `rf_model.pkl`로 저장되었으며, 추후 배포나 서빙 단계에서 활용할 수 있습니다."
   ]
  }
 ],
 "metadata": {},
 "nbformat": 4,
 "nbformat_minor": 5
}