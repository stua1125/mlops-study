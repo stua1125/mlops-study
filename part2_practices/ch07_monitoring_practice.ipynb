{
 "cells": [
  {
   "cell_type": "markdown",
   "id": "8462f982",
   "metadata": {},
   "source": [
    "# CHAPTER 7 실습: 모니터링과 피드백 루프\n",
    "\n",
    "이 노트북은 『MLOps 도입 가이드』 7장의 모니터링과 피드백 루프 실습을 위한 템플릿입니다.\n",
    "\n",
    "실습 항목:\n",
    "- 데이터 드리프트 감지 (KS 검정)\n",
    "- 분포 시각화\n",
    "- 개념 드리프트(모델 성능 변화) 탐지\n",
    "- 드리프트 알림 시뮬레이션"
   ]
  },
  {
   "cell_type": "markdown",
   "id": "1a85640f",
   "metadata": {},
   "source": [
    "## 1. 데이터 로딩 및 전처리"
   ]
  },
  {
   "cell_type": "code",
   "execution_count": null,
   "id": "3515f388",
   "metadata": {},
   "outputs": [],
   "source": [
    "import pandas as pd\n",
    "import seaborn as sns\n",
    "import numpy as np\n",
    "\n",
    "# 타이타닉 데이터 로딩 및 전처리\n",
    "df = sns.load_dataset('titanic')\n",
    "df = df.dropna(subset=['fare', 'age', 'embarked', 'sex'])\n",
    "df['sex'] = df['sex'].map({'male': 0, 'female': 1})\n",
    "df['embarked'] = df['embarked'].astype('category').cat.codes\n"
   ]
  },
  {
   "cell_type": "markdown",
   "id": "3395c03f",
   "metadata": {},
   "source": [
    "## 2. 분포 시각화 및 훈련/테스트 분리"
   ]
  },
  {
   "cell_type": "code",
   "execution_count": null,
   "id": "401190f9",
   "metadata": {},
   "outputs": [],
   "source": [
    "import matplotlib.pyplot as plt\n",
    "from sklearn.model_selection import train_test_split\n",
    "\n",
    "# 70/30 분할\n",
    "train, test = train_test_split(df, test_size=0.3, random_state=42)\n",
    "# 분포 시각화\n",
    "plt.hist(train['fare'], bins=20, alpha=0.5, label='train')\n",
    "plt.hist(test['fare'], bins=20, alpha=0.5, label='test')\n",
    "plt.legend(); plt.title('Fare Distribution')\n"
   ]
  },
  {
   "cell_type": "markdown",
   "id": "98896d89",
   "metadata": {},
   "source": [
    "## 3. 데이터 드리프트 감지 (KS 검정)"
   ]
  },
  {
   "cell_type": "code",
   "execution_count": null,
   "id": "0079d761",
   "metadata": {},
   "outputs": [],
   "source": [
    "from scipy.stats import ks_2samp\n",
    "\n",
    "stat, p_value = ks_2samp(train['fare'], test['fare'])\n",
    "print(f'KS 통계량: {stat:.4f}, p-value: {p_value:.4f}')\n",
    "if p_value < 0.05:\n",
    "    print('⚠️ 데이터 드리프트 감지됨')\n",
    "else:\n",
    "    print('✅ 드리프트 없음')"
   ]
  },
  {
   "cell_type": "markdown",
   "id": "44dad85d",
   "metadata": {},
   "source": [
    "## 4. 개념 드리프트 감지: 모델 성능 변화"
   ]
  },
  {
   "cell_type": "code",
   "execution_count": null,
   "id": "134fc103",
   "metadata": {},
   "outputs": [],
   "source": [
    "from sklearn.ensemble import RandomForestClassifier\n",
    "from sklearn.metrics import accuracy_score\n",
    "\n",
    "def evaluate_performance(data):\n",
    "    X = data[['pclass','sex','age','sibsp','parch','fare','embarked']]\n",
    "    y = data['survived']\n",
    "    model = RandomForestClassifier(random_state=42)\n",
    "    X_train, X_eval, y_train, y_eval = train_test_split(X, y, test_size=0.3, random_state=42)\n",
    "    model.fit(X_train, y_train)\n",
    "    return accuracy_score(y_eval, model.predict(X_eval))\n",
    "\n",
    "base_acc = evaluate_performance(train)\n",
    "drift_acc = evaluate_performance(test)\n",
    "print(f'기준 정확도: {base_acc:.4f}, 테스트 정확도: {drift_acc:.4f}')"
   ]
  },
  {
   "cell_type": "markdown",
   "id": "4fdf9ba7",
   "metadata": {},
   "source": [
    "## 5. 드리프트 알림 시뮬레이션"
   ]
  },
  {
   "cell_type": "code",
   "execution_count": null,
   "id": "56eb2747",
   "metadata": {},
   "outputs": [],
   "source": [
    "drop = base_acc - drift_acc\n",
    "if drop > 0.05:\n",
    "    print('🚨 모델 성능 하락 감지: 경고 전송')\n",
    "else:\n",
    "    print('✅ 모델 성능 양호')"
   ]
  },
  {
   "cell_type": "markdown",
   "id": "eef246f4",
   "metadata": {},
   "source": [
    "🔧 실제 운영에서는 이 알림을 이메일, Slack, 모니터링 시스템과 연동합니다."
   ]
  }
 ],
 "metadata": {},
 "nbformat": 4,
 "nbformat_minor": 5
}