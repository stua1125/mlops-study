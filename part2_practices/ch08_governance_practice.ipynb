{
 "cells": [
  {
   "cell_type": "markdown",
   "id": "50d5e958",
   "metadata": {},
   "source": [
    "# CHAPTER 8 실습: 모델 거버넌스\n",
    "\n",
    "이 노트북은 『MLOps 도입 가이드』 8장의 모델 거버넌스 실습을 위한 템플릿입니다.\n",
    "\n",
    "실습 항목:\n",
    "- 거버넌스 체크리스트 생성 및 저장\n",
    "- 모델 카드 템플릿 생성\n",
    "- 거버넌스 프로세스 문서화"
   ]
  },
  {
   "cell_type": "markdown",
   "id": "bbeac5c9",
   "metadata": {},
   "source": [
    "## 1. 거버넌스 체크리스트 생성"
   ]
  },
  {
   "cell_type": "code",
   "execution_count": 7,
   "id": "accc93cf",
   "metadata": {},
   "outputs": [
    {
     "data": {
      "text/html": [
       "<div>\n",
       "<style scoped>\n",
       "    .dataframe tbody tr th:only-of-type {\n",
       "        vertical-align: middle;\n",
       "    }\n",
       "\n",
       "    .dataframe tbody tr th {\n",
       "        vertical-align: top;\n",
       "    }\n",
       "\n",
       "    .dataframe thead th {\n",
       "        text-align: right;\n",
       "    }\n",
       "</style>\n",
       "<table border=\"1\" class=\"dataframe\">\n",
       "  <thead>\n",
       "    <tr style=\"text-align: right;\">\n",
       "      <th></th>\n",
       "      <th>Item</th>\n",
       "      <th>Description</th>\n",
       "      <th>Owner</th>\n",
       "      <th>Frequency</th>\n",
       "    </tr>\n",
       "  </thead>\n",
       "  <tbody>\n",
       "    <tr>\n",
       "      <th>0</th>\n",
       "      <td>리스크 분류</td>\n",
       "      <td>모델 리스크 레벨 정의</td>\n",
       "      <td>Risk Team</td>\n",
       "      <td>Annually</td>\n",
       "    </tr>\n",
       "    <tr>\n",
       "      <th>1</th>\n",
       "      <td>정책 검토</td>\n",
       "      <td>거버넌스 정책 주기적 검토</td>\n",
       "      <td>Compliance</td>\n",
       "      <td>Quarterly</td>\n",
       "    </tr>\n",
       "    <tr>\n",
       "      <th>2</th>\n",
       "      <td>감사 로그</td>\n",
       "      <td>모델 사용 및 접근 로그 감사</td>\n",
       "      <td>Audit Team</td>\n",
       "      <td>Monthly</td>\n",
       "    </tr>\n",
       "    <tr>\n",
       "      <th>3</th>\n",
       "      <td>모델 카드</td>\n",
       "      <td>모델 메타데이터 문서화</td>\n",
       "      <td>Data Science</td>\n",
       "      <td>With Release</td>\n",
       "    </tr>\n",
       "  </tbody>\n",
       "</table>\n",
       "</div>"
      ],
      "text/plain": [
       "     Item       Description         Owner     Frequency\n",
       "0  리스크 분류      모델 리스크 레벨 정의     Risk Team      Annually\n",
       "1   정책 검토    거버넌스 정책 주기적 검토    Compliance     Quarterly\n",
       "2   감사 로그  모델 사용 및 접근 로그 감사    Audit Team       Monthly\n",
       "3   모델 카드      모델 메타데이터 문서화  Data Science  With Release"
      ]
     },
     "execution_count": 7,
     "metadata": {},
     "output_type": "execute_result"
    }
   ],
   "source": [
    "import pandas as pd\n",
    "\n",
    "# 거버넌스 체크리스트 예시 데이터\n",
    "checklist = pd.DataFrame([\n",
    "    {'Item': '리스크 분류', 'Description': '모델 리스크 레벨 정의', 'Owner': 'Risk Team', 'Frequency': 'Annually'},\n",
    "    {'Item': '정책 검토', 'Description': '거버넌스 정책 주기적 검토', 'Owner': 'Compliance', 'Frequency': 'Quarterly'},\n",
    "    {'Item': '감사 로그', 'Description': '모델 사용 및 접근 로그 감사', 'Owner': 'Audit Team', 'Frequency': 'Monthly'},\n",
    "    {'Item': '모델 카드', 'Description': '모델 메타데이터 문서화', 'Owner': 'Data Science', 'Frequency': 'With Release'}\n",
    "])\n",
    "checklist.to_csv('ch08_governance_checklist.csv', index=False)\n",
    "checklist"
   ]
  },
  {
   "cell_type": "markdown",
   "id": "bb3b1a53",
   "metadata": {},
   "source": [
    "## 2. 모델 카드 템플릿 생성"
   ]
  },
  {
   "cell_type": "code",
   "execution_count": 8,
   "id": "0b0ede68",
   "metadata": {},
   "outputs": [
    {
     "name": "stdout",
     "output_type": "stream",
     "text": [
      "✅ ch08_model_card_template.md 생성 완료\n"
     ]
    }
   ],
   "source": [
    "model_card = '''\n",
    "# Model Card Template\n",
    "\n",
    "## 모델 개요\n",
    "- 모델 이름: \n",
    "- 버전: \n",
    "- 설명: \n",
    "\n",
    "## 성능\n",
    "- 측정 지표: \n",
    "- 성능 결과: \n",
    "\n",
    "## 데이터\n",
    "- 데이터 출처: \n",
    "- 데이터 설명: \n",
    "\n",
    "## 거버넌스\n",
    "- 리스크 등급: \n",
    "- 검토 주기: \n",
    "- 담당자: \n",
    "'''\n",
    "with open('ch08_model_card_template.md', 'w', encoding='utf-8') as f:\n",
    "    f.write(model_card)\n",
    "print('✅ ch08_model_card_template.md 생성 완료')"
   ]
  },
  {
   "cell_type": "markdown",
   "id": "44182390",
   "metadata": {},
   "source": [
    "## 3. 거버넌스 프로세스 문서화"
   ]
  },
  {
   "cell_type": "code",
   "execution_count": 9,
   "id": "1e7f16b9",
   "metadata": {},
   "outputs": [
    {
     "name": "stdout",
     "output_type": "stream",
     "text": [
      "✅ ch08_governance_process_flow.md 생성 완료\n"
     ]
    }
   ],
   "source": [
    "process_flow = '''\n",
    "1. 데이터 수집 및 분류\n",
    "2. 모델 개발 및 검증\n",
    "3. 거버넌스 검토 및 승인\n",
    "4. 배포 및 모니터링\n",
    "5. 주기적 재검토 및 업데이트\n",
    "'''\n",
    "with open('ch08_governance_process_flow.md', 'w', encoding='utf-8') as f:\n",
    "    f.write(process_flow)\n",
    "print('✅ ch08_governance_process_flow.md 생성 완료')"
   ]
  },
  {
   "cell_type": "markdown",
   "id": "280ca776",
   "metadata": {},
   "source": [
    "🔧 생성된 파일:\n",
    "- ch08_overnance_checklist.csv\n",
    "- ch08_model_card_template.md\n",
    "- ch08_governance_process_flow.md\n",
    "\n",
    "이 템플릿을 기반으로 조직의 거버넌스 문서를 작성해보세요."
   ]
  }
 ],
 "metadata": {
  "kernelspec": {
   "display_name": "venv",
   "language": "python",
   "name": "python3"
  },
  "language_info": {
   "codemirror_mode": {
    "name": "ipython",
    "version": 3
   },
   "file_extension": ".py",
   "mimetype": "text/x-python",
   "name": "python",
   "nbconvert_exporter": "python",
   "pygments_lexer": "ipython3",
   "version": "3.11.13"
  }
 },
 "nbformat": 4,
 "nbformat_minor": 5
}
