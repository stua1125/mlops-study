{
 "cells": [
  {
   "cell_type": "markdown",
   "id": "2e28d734",
   "metadata": {},
   "source": [
    "# CHAPTER 5 실습: 상용화 준비\n",
    "\n",
    "이 노트북은 『MLOps 도입 가이드』 5장 상용화 준비 내용을 기반으로 한 실습입니다.\n",
    "\n",
    "실습 항목:\n",
    "- 모델 리스크 평가\n",
    "- 품질 검증\n",
    "- 예측 신뢰도 기반 리스크 감지"
   ]
  },
  {
   "cell_type": "markdown",
   "id": "a02673d8",
   "metadata": {},
   "source": [
    "## 1. 데이터 로딩 및 전처리"
   ]
  },
  {
   "cell_type": "code",
   "execution_count": 1,
   "id": "6a6dc961",
   "metadata": {},
   "outputs": [],
   "source": [
    "import pandas as pd\n",
    "import seaborn as sns\n",
    "import numpy as np\n",
    "\n",
    "from sklearn.model_selection import cross_val_score\n",
    "from sklearn.ensemble import RandomForestClassifier\n",
    "from sklearn.metrics import classification_report\n",
    "\n",
    "# 타이타닉 데이터 로딩\n",
    "df = sns.load_dataset(\"titanic\").dropna(subset=[\"age\", \"embarked\"])\n",
    "df[\"sex\"] = df[\"sex\"].map({\"male\": 0, \"female\": 1})\n",
    "df[\"embarked\"] = df[\"embarked\"].astype(\"category\").cat.codes\n",
    "features = [\"pclass\", \"sex\", \"age\", \"sibsp\", \"parch\", \"fare\", \"embarked\"]\n",
    "X = df[features]\n",
    "y = df[\"survived\"]"
   ]
  },
  {
   "cell_type": "markdown",
   "id": "24713e53",
   "metadata": {},
   "source": [
    "## 2. 모델 리스크 평가: 클래스 불균형, 노이즈 반응"
   ]
  },
  {
   "cell_type": "code",
   "execution_count": 2,
   "id": "00512db1",
   "metadata": {},
   "outputs": [
    {
     "name": "stdout",
     "output_type": "stream",
     "text": [
      "클래스 분포: [424 288]\n",
      "Cross-validation accuracy: [0.74125874 0.8041958  0.8028169  0.77464789 0.83802817]\n",
      "평균 정확도: 0.7921895006402048\n"
     ]
    }
   ],
   "source": [
    "model = RandomForestClassifier(random_state=42)\n",
    "\n",
    "# 클래스 분포\n",
    "print(\"클래스 분포:\", np.bincount(y))\n",
    "\n",
    "# 교차 검증 정확도\n",
    "scores = cross_val_score(model, X, y, cv=5, scoring=\"accuracy\")\n",
    "print(\"Cross-validation accuracy:\", scores)\n",
    "print(\"평균 정확도:\", np.mean(scores))"
   ]
  },
  {
   "cell_type": "markdown",
   "id": "1fd4571a",
   "metadata": {},
   "source": [
    "## 3. 품질 검증: 입력값 노이즈 추가"
   ]
  },
  {
   "cell_type": "code",
   "execution_count": 3,
   "id": "1eb4f9c9",
   "metadata": {},
   "outputs": [
    {
     "name": "stdout",
     "output_type": "stream",
     "text": [
      "노이즈 추가 후 정확도: 0.7908105978528515\n"
     ]
    }
   ],
   "source": [
    "X_noisy = X.copy()\n",
    "X_noisy[\"fare\"] = X_noisy[\"fare\"] + np.random.normal(0, 50, size=len(X))\n",
    "scores_noisy = cross_val_score(model, X_noisy, y, cv=5)\n",
    "print(\"노이즈 추가 후 정확도:\", np.mean(scores_noisy))"
   ]
  },
  {
   "cell_type": "markdown",
   "id": "37a04ae8",
   "metadata": {},
   "source": [
    "## 4. 예측 신뢰도 기반 리스크 감지"
   ]
  },
  {
   "cell_type": "code",
   "execution_count": 4,
   "id": "7e019f1d",
   "metadata": {},
   "outputs": [
    {
     "name": "stdout",
     "output_type": "stream",
     "text": [
      "불확실 예측 비율: 0.028089887640449437\n"
     ]
    }
   ],
   "source": [
    "model.fit(X, y)\n",
    "proba = model.predict_proba(X)\n",
    "confidence = np.max(proba, axis=1)\n",
    "low_confidence = confidence < 0.6\n",
    "print(\"불확실 예측 비율:\", np.mean(low_confidence))"
   ]
  },
  {
   "cell_type": "markdown",
   "id": "a5f8b6c1",
   "metadata": {},
   "source": [
    "✅ 이 실습은 운영 전 테스트로 성능 저하 요인을 분석하고, 예측 불확실성을 감지하는 방법을 보여줍니다."
   ]
  }
 ],
 "metadata": {
  "kernelspec": {
   "display_name": "venv",
   "language": "python",
   "name": "python3"
  },
  "language_info": {
   "codemirror_mode": {
    "name": "ipython",
    "version": 3
   },
   "file_extension": ".py",
   "mimetype": "text/x-python",
   "name": "python",
   "nbconvert_exporter": "python",
   "pygments_lexer": "ipython3",
   "version": "3.11.13"
  }
 },
 "nbformat": 4,
 "nbformat_minor": 5
}
